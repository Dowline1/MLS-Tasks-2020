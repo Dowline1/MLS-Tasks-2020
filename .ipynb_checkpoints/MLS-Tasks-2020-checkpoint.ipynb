{
 "cells": [
  {
   "cell_type": "markdown",
   "metadata": {},
   "source": [
    "# Machine Learning & Statistics\n",
    "## Tasks 2020"
   ]
  },
  {
   "cell_type": "markdown",
   "metadata": {},
   "source": [
    "### Question 1\n",
    "**Calculating the Square Root of 2 to 100 decimal places**\n",
    "\n",
    "Initial code to calculate square root adapted from (perigon, 2017), in the link it is discussed that calculating square root can be done by raising the number to perform square root on by a power of 0.5. This has given me the start of a function to calculate the square root of 2 however further work is needed to increase decimals to 100 places.\n",
    "\n",
    "Further research brought me to a Stack Overflow discussion (SYK, 2015) that used format to increase the precision of a floating number which I have adapted and used to display 100 decimal places. The only issue is what looks like after around 50/60 places I am getting recurring 0's which is obviously not correct.\n",
    "\n",
    "After additional investigation in the Python Documentation (Python Software Foundation, 2020), it appears that there is a limitation as to what precision of numbers can be stored on computers when mapping python floats when it comes to arithmetic. Python floats are mapped to IEEE-754 “double precision” which contain 53 bits of precision which aligns with the number of decimals I am currently displaying.\n",
    "\n",
    "Further reading in the python documentation revealed integers can be much longer that floats so I am trying to leverage that fact byt converting the square root of 2 to an integer ratio and multiplying this up to give an int of required length to convert back to a decimal (Python Software Foundation, 2020).\n",
    "\n",
    "After further check it looks like the calculation however is not giving the correct answer to the square root of 2, this falls back to the same issue as original calculation is done using floats (Python Software Foundation, 2020) which are limited in there precision.\n",
    "\n",
    "Additional research online brought me to a website describing calculating standard deviation of an integer which I will be using to calculate square root of $2x10^{200}$ (to allow for required length of decimals) code adapted using (D'Aprano, 2011)."
   ]
  },
  {
   "cell_type": "code",
   "execution_count": 1,
   "metadata": {},
   "outputs": [],
   "source": [
    "def sqrt2(x):\n",
    "    # Converts number (x) to int to allow square root calculation by integer\n",
    "    n = int(x)\n",
    "    \n",
    "    # a set to number of bits necessary to represent an integer in binary\n",
    "    # b set to 2\n",
    "    # divmod takes a two number a and b and returns a tuple consisting of their quotient and remainder.\n",
    "    # This will be used to increase power of 2 by the quotient + remainder\n",
    "    a, b = divmod(n.bit_length(), 2)\n",
    "    \n",
    "    # x set to 2 to the power of a+b\n",
    "    x = 2**(a+b)\n",
    "    while True:\n",
    "        # Floor division done to avoid creating float type\n",
    "        # repeat until y >= x\n",
    "        y = (x + n//x)//2\n",
    "        if y >= x:\n",
    "            return x\n",
    "        x = y\n",
    "\n",
    "\n",
    "twoExponent = 2*(10**200)\n",
    "answer = sqrt2(twoExponent)"
   ]
  },
  {
   "cell_type": "code",
   "execution_count": 2,
   "metadata": {},
   "outputs": [
    {
     "name": "stdout",
     "output_type": "stream",
     "text": [
      "14142135623730950488016887242096980785696718753769480731766797379907324784621070388503875343276415727\n",
      "Function is calculating to 99 decimal places.\n",
      "<class 'int'>\n"
     ]
    }
   ],
   "source": [
    "# Convert answer to string to check precision of calculation\n",
    "p_check = str(answer)\n",
    "\n",
    "print(answer)\n",
    "\n",
    "# Type of len check change to str to allow printing, -2 in check acounts for \n",
    "# number before decimal and also the decimal point characters\n",
    "print(\"Function is calculating to \"+str(len(p_check)-2)+\" decimal places.\")\n",
    "\n",
    "#print(type(p_check))\n",
    "print(type(answer))"
   ]
  },
  {
   "cell_type": "markdown",
   "metadata": {},
   "source": [
    "## References\n",
    "Math.com, n.d. Square Roots. [Online] \n",
    "Available at: http://www.math.com/school/subject1/lessons/S1U1L9DP.html\n",
    "[Accessed 07 October 2020].\n",
    "\n",
    "perigon, 2017. Square root of a number without math.sqrt. [Online] \n",
    "Available at: https://stackoverflow.com/questions/45135238/square-root-of-a-number-without-math-sqrt\n",
    "[Accessed 10 October 2020].\n",
    "\n",
    "Python Software Foundation, 2020. 15. Floating Point Arithmetic: Issues and Limitations. [Online] \n",
    "Available at: https://docs.python.org/3/tutorial/floatingpoint.html\n",
    "[Accessed 10 October 2020].\n",
    "\n",
    "SYK, 2015. Python setting Decimal Place range without rounding?. [Online] \n",
    "Available at: https://stackoverflow.com/questions/29246455/python-setting-decimal-place-range-without-rounding\n",
    "[Accessed 10 October 2020]."
   ]
  }
 ],
 "metadata": {
  "kernelspec": {
   "display_name": "Python 3",
   "language": "python",
   "name": "python3"
  },
  "language_info": {
   "codemirror_mode": {
    "name": "ipython",
    "version": 3
   },
   "file_extension": ".py",
   "mimetype": "text/x-python",
   "name": "python",
   "nbconvert_exporter": "python",
   "pygments_lexer": "ipython3",
   "version": "3.8.3"
  }
 },
 "nbformat": 4,
 "nbformat_minor": 4
}

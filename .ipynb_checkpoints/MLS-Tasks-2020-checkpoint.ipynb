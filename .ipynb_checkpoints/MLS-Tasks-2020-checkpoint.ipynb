{
 "cells": [
  {
   "cell_type": "markdown",
   "metadata": {},
   "source": [
    "# Machine Learning & Statistics\n",
    "## Tasks 2020"
   ]
  },
  {
   "cell_type": "markdown",
   "metadata": {},
   "source": [
    "### Question 1\n",
    "**Calculating the Square Root of 2 to 100 decimal places**\n",
    "\n",
    "Initial code to calculate square root adapted from (perigon, 2017), in the link it is discussed that calculating square root can be done by raising the number to perform square root on by a power of 0.5. This has given me the start of a function to calculate the square root of 2 however further work is needed to increase decimals to 100 places.\n",
    "\n",
    "Further research brought me to a Stack Overflow discussion (SYK, 2015) that used format to increase the precision of a floating number which I have adapted and used to display 100 decimal places. The only issue is what looks like after around 50/60 places I am getting recurring 0's which is obviously not correct.\n",
    "\n",
    "After additional investigation in the Python Documentation (Python Software Foundation, 2020), it appears that there is a limitation as to what precision of numbers can be stored on computers when mapping python floats when it comes to arithmetic. Python floats are mapped to IEEE-754 “double precision” which contain 53 bits of precision which aligns with the number of decimals I am currently displaying.\n",
    "\n",
    "Further reading in the python documentation revealed integers can be much longer that floats so I am trying to leverage that fact by converting the square root of 2 to an integer ratio and multiplying this up to give an int of required length to convert back to a decimal (Python Software Foundation, 2020).\n",
    "\n",
    "After further check it looks like the calculation however is not giving the correct answer to the square root of 2, this falls back to the same issue as original calculation is done using floats (Python Software Foundation, 2020) which are limited in their precision.\n",
    "\n",
    "Additional research online brought me to a website describing calculating standard deviation of an integer which I will be using to calculate square root of $2x10^{200}$ (to allow for required length of decimals) code adapted using (D'Aprano, 2011). This algorithm was come accross by reading on Wikipedia into integer square root so that I could take advantage of large number of charaters stored as integers (Wikipedia, 2020)."
   ]
  },
  {
   "cell_type": "code",
   "execution_count": 1,
   "metadata": {},
   "outputs": [],
   "source": [
    "def sqrt2(x):\n",
    "    # Converts number (x) to int to allow square root calculation by integer\n",
    "    n = int(x)\n",
    "    \n",
    "    # a set to number of bits necessary to represent an integer in binary\n",
    "    # b set to 2\n",
    "    # divmod takes a two number a and b and returns a tuple consisting of their quotient and remainder.\n",
    "    # This will be used to increase power of 2 by the quotient + remainder\n",
    "    a, b = divmod(n.bit_length(), 2)\n",
    "    \n",
    "    # x set to 2 to the power of a+b\n",
    "    x = 2**(a+b)\n",
    "    while True:\n",
    "        # Floor division done to avoid creating float type\n",
    "        # repeat until y >= x\n",
    "        y = (x + n//x)//2\n",
    "        if y >= x:\n",
    "            return x\n",
    "        x = y\n",
    "\n",
    "\n",
    "twoExponent = 2*(10**200)\n",
    "answer = sqrt2(twoExponent)"
   ]
  },
  {
   "cell_type": "code",
   "execution_count": 2,
   "metadata": {},
   "outputs": [
    {
     "name": "stdout",
     "output_type": "stream",
     "text": [
      "Function is calculating to 100 decimal places.\n",
      "1.4142135623730950488016887242096980785696718753769480731766797379907324784621070388503875343276415727\n"
     ]
    }
   ],
   "source": [
    "# Convert answer to string to check precision of calculation\n",
    "p_check = str(answer)\n",
    "\n",
    "# Type of len check change to str to allow printing, -1 in check acounts for \n",
    "# decimal point character\n",
    "print(\"Function is calculating to \"+str(len(p_check)-1)+\" decimal places.\")\n",
    "\n",
    "#print(type(p_check))\n",
    "\n",
    "print(f'{answer // 10**100}.{answer % 10**100:0100d}')\n",
    "\n",
    "sqrtEoin = f'{answer // 10**100}.{answer % 10**100:0100d}'"
   ]
  },
  {
   "cell_type": "markdown",
   "metadata": {},
   "source": [
    "Below is used to format output of algorithm to correctly show square root of 2 rather than an exponent of it adapted from (Robᵩ, 2017), first block floor divided by $10^{100}$ to capture the integer portion of the calculation, second part capture remainder of division by $10^{100}$ by using the modulo function which captures the remainder and placed to the right of the decimal.\n",
    "\n",
    "The Square root of 2 to 100 decimals for comparison taken from (Nemiroff & Bonnell , Unknown) where was found to be: 1.4142135623730950488016887242096980785696718753769480731766797379907324784621070388503875343276415727"
   ]
  },
  {
   "cell_type": "code",
   "execution_count": 3,
   "metadata": {},
   "outputs": [
    {
     "data": {
      "text/plain": [
       "True"
      ]
     },
     "execution_count": 3,
     "metadata": {},
     "output_type": "execute_result"
    }
   ],
   "source": [
    "sqrtNasa = \"1.4142135623730950488016887242096980785696718753769480731766797379907324784621070388503875343276415727\"\n",
    "\n",
    "# Comparison check\n",
    "sqrtNasa == sqrtEoin"
   ]
  },
  {
   "cell_type": "markdown",
   "metadata": {},
   "source": [
    "### Answer Output to Question 1"
   ]
  },
  {
   "cell_type": "code",
   "execution_count": 4,
   "metadata": {},
   "outputs": [
    {
     "name": "stdout",
     "output_type": "stream",
     "text": [
      "The Square Root of 2 to 100 decimals = 1.4142135623730950488016887242096980785696718753769480731766797379907324784621070388503875343276415727\n"
     ]
    }
   ],
   "source": [
    "print(\"The Square Root of 2 to 100 decimals = \"+f'{answer // 10**100}.{answer % 10**100:0100d}')"
   ]
  },
  {
   "cell_type": "markdown",
   "metadata": {},
   "source": [
    "### Question 2\n",
    "**Validating Chi-squared test result from Wikipedia Article**\n",
    "\n"
   ]
  },
  {
   "cell_type": "code",
   "execution_count": null,
   "metadata": {},
   "outputs": [],
   "source": []
  },
  {
   "cell_type": "code",
   "execution_count": null,
   "metadata": {},
   "outputs": [],
   "source": []
  },
  {
   "cell_type": "code",
   "execution_count": null,
   "metadata": {},
   "outputs": [],
   "source": []
  },
  {
   "cell_type": "code",
   "execution_count": null,
   "metadata": {},
   "outputs": [],
   "source": []
  },
  {
   "cell_type": "code",
   "execution_count": null,
   "metadata": {},
   "outputs": [],
   "source": []
  },
  {
   "cell_type": "markdown",
   "metadata": {},
   "source": [
    "## References\n",
    "D'Aprano, S., 2011. INTEGER SQUARE ROOT FUNCTION (PYTHON RECIPE). [Online] \n",
    "Available at: https://code.activestate.com/recipes/577821-integer-square-root-function/\n",
    "[Accessed 11 October 2020].\n",
    "\n",
    "Math.com, n.d. Square Roots. [Online] \n",
    "Available at: http://www.math.com/school/subject1/lessons/S1U1L9DP.html\n",
    "[Accessed 07 October 2020].\n",
    "\n",
    "Nemiroff, R. & Bonnell , J., Unknown. The Square Root of Two to 1 Million Digits. [Online] \n",
    "Available at: https://apod.nasa.gov/htmltest/gifcity/sqrt2.1mil\n",
    "[Accessed 11 October 2020].\n",
    "\n",
    "perigon, 2017. Square root of a number without math.sqrt. [Online] \n",
    "Available at: https://stackoverflow.com/questions/45135238/square-root-of-a-number-without-math-sqrt\n",
    "[Accessed 10 October 2020].\n",
    "\n",
    "Python Software Foundation, 2020. 15. Floating Point Arithmetic: Issues and Limitations. [Online] \n",
    "Available at: https://docs.python.org/3/tutorial/floatingpoint.html\n",
    "[Accessed 10 October 2020].\n",
    "\n",
    "Python Software Foundation, 2020. Built-in Types. [Online] \n",
    "Available at: https://docs.python.org/3/library/stdtypes.html?highlight=as_integer_ratio#float.as_integer_ratio\n",
    "[Accessed 11 October 2020].\n",
    "\n",
    "Robᵩ, 2017. Fixed digits after decimal with f-strings. [Online] \n",
    "Available at: https://stackoverflow.com/questions/45310254/fixed-digits-after-decimal-with-f-strings\n",
    "[Accessed 11 October 2020].\n",
    "\n",
    "SYK, 2015. Python setting Decimal Place range without rounding?. [Online] \n",
    "Available at: https://stackoverflow.com/questions/29246455/python-setting-decimal-place-range-without-rounding\n",
    "[Accessed 10 October 2020].\n",
    "\n",
    "Wikipedia, 2020. Integer square root. [Online] \n",
    "Available at: https://en.wikipedia.org/wiki/Integer_square_root\n",
    "[Accessed 11 October 2020]."
   ]
  },
  {
   "cell_type": "code",
   "execution_count": null,
   "metadata": {},
   "outputs": [],
   "source": []
  }
 ],
 "metadata": {
  "kernelspec": {
   "display_name": "Python 3",
   "language": "python",
   "name": "python3"
  },
  "language_info": {
   "codemirror_mode": {
    "name": "ipython",
    "version": 3
   },
   "file_extension": ".py",
   "mimetype": "text/x-python",
   "name": "python",
   "nbconvert_exporter": "python",
   "pygments_lexer": "ipython3",
   "version": "3.8.3"
  }
 },
 "nbformat": 4,
 "nbformat_minor": 4
}

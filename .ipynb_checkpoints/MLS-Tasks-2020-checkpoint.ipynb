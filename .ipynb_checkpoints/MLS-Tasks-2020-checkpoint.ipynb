{
 "cells": [
  {
   "cell_type": "markdown",
   "metadata": {},
   "source": [
    "# Machine Learning & Statistics\n",
    "## Tasks 2020"
   ]
  },
  {
   "cell_type": "markdown",
   "metadata": {},
   "source": [
    "### Question 1\n",
    "***\n",
    "**Calculating the Square Root of 2 to 100 decimal places**\n",
    "\n",
    "Initial code to calculate square root adapted from (perigon, 2017), in the link it is discussed that calculating square root can be done by raising the number to perform square root on by a power of 0.5. This has given me the start of a function to calculate the square root of 2 however further work is needed to increase decimals to 100 places.\n",
    "\n",
    "Further research brought me to a Stack Overflow discussion (SYK, 2015) that used format to increase the precision of a floating number which I have adapted and used to display 100 decimal places. The only issue is what looks like after around 50/60 places I am getting recurring 0's which is obviously not correct.\n",
    "\n",
    "After additional investigation in the Python Documentation (Python Software Foundation, 2020), it appears that there is a limitation as to what precision of numbers can be stored on computers when mapping python floats when it comes to arithmetic. Python floats are mapped to IEEE-754 “double precision” which contain 53 bits of precision which aligns with the number of decimals I am currently displaying.\n",
    "\n",
    "Further reading in the python documentation revealed integers can be much longer that floats so I am trying to leverage that fact by converting the square root of 2 to an integer ratio and multiplying this up to give an int of required length to convert back to a decimal (Python Software Foundation, 2020).\n",
    "\n",
    "After further check it looks like the calculation however is not giving the correct answer to the square root of 2, this falls back to the same issue as original calculation is done using floats (Python Software Foundation, 2020) which are limited in their precision.\n",
    "\n",
    "Additional research online brought me to a website describing calculating standard deviation of an integer which I will be using to calculate square root of $2x10^{200}$ (to allow for required length of decimals) code adapted using (D'Aprano, 2011). This algorithm was come accross by reading on Wikipedia into integer square root so that I could take advantage of large number of charaters stored as integers (Wikipedia, 2020)."
   ]
  },
  {
   "cell_type": "code",
   "execution_count": 1,
   "metadata": {},
   "outputs": [],
   "source": [
    "def sqrt2(x):\n",
    "    # Converts number (x) to int to allow square root calculation by integer\n",
    "    n = int(x)\n",
    "    \n",
    "    # a set to number of bits necessary to represent an integer in binary\n",
    "    # b set to 2\n",
    "    # divmod takes a two number a and b and returns a tuple consisting of their quotient and remainder.\n",
    "    # This will be used to increase power of 2 by the quotient + remainder\n",
    "    a, b = divmod(n.bit_length(), 2)\n",
    "    \n",
    "    # x set to 2 to the power of a+b\n",
    "    x = 2**(a+b)\n",
    "    while True:\n",
    "        # Floor division done to avoid creating float type\n",
    "        # repeat until y >= x\n",
    "        y = (x + n//x)//2\n",
    "        if y >= x:\n",
    "            return x\n",
    "        x = y\n",
    "\n",
    "\n",
    "twoExponent = 2*(10**200)\n",
    "answer = sqrt2(twoExponent)"
   ]
  },
  {
   "cell_type": "code",
   "execution_count": 2,
   "metadata": {},
   "outputs": [
    {
     "name": "stdout",
     "output_type": "stream",
     "text": [
      "Function is calculating to 100 decimal places.\n",
      "1.4142135623730950488016887242096980785696718753769480731766797379907324784621070388503875343276415727\n"
     ]
    }
   ],
   "source": [
    "# Convert answer to string to check precision of calculation\n",
    "p_check = str(answer)\n",
    "\n",
    "# Type of len check change to str to allow printing, -1 in check acounts for \n",
    "# decimal point character\n",
    "print(\"Function is calculating to \"+str(len(p_check)-1)+\" decimal places.\")\n",
    "\n",
    "#print(type(p_check))\n",
    "\n",
    "print(f'{answer // 10**100}.{answer % 10**100:0100d}')\n",
    "\n",
    "sqrtEoin = f'{answer // 10**100}.{answer % 10**100:0100d}'"
   ]
  },
  {
   "cell_type": "markdown",
   "metadata": {},
   "source": [
    "Below is used to format output of algorithm to correctly show square root of 2 rather than an exponent of it adapted from (Robᵩ, 2017), first block floor divided by $10^{100}$ to capture the integer portion of the calculation, second part capture remainder of division by $10^{100}$ by using the modulo function which captures the remainder and placed to the right of the decimal.\n",
    "\n",
    "The Square root of 2 to 100 decimals for comparison taken from (Nemiroff & Bonnell , Unknown) where was found to be: 1.4142135623730950488016887242096980785696718753769480731766797379907324784621070388503875343276415727\n",
    "\n",
    "Comparison was done below with my calculation saved as \"sqrtEoin\" and the answer as compied from (Nemiroff & Bonnell , Unknown) saved as \"sqrtNasa\" and is returning as True indicating they are the same."
   ]
  },
  {
   "cell_type": "code",
   "execution_count": 3,
   "metadata": {},
   "outputs": [
    {
     "data": {
      "text/plain": [
       "True"
      ]
     },
     "execution_count": 3,
     "metadata": {},
     "output_type": "execute_result"
    }
   ],
   "source": [
    "sqrtNasa = \"1.4142135623730950488016887242096980785696718753769480731766797379907324784621070388503875343276415727\"\n",
    "\n",
    "# Comparison check\n",
    "sqrtNasa == sqrtEoin"
   ]
  },
  {
   "cell_type": "markdown",
   "metadata": {},
   "source": [
    "### Answer Output to Question 1\n",
    "***"
   ]
  },
  {
   "cell_type": "code",
   "execution_count": 4,
   "metadata": {},
   "outputs": [
    {
     "name": "stdout",
     "output_type": "stream",
     "text": [
      "The Square Root of 2 to 100 decimals = 1.4142135623730950488016887242096980785696718753769480731766797379907324784621070388503875343276415727\n"
     ]
    }
   ],
   "source": [
    "print(\"The Square Root of 2 to 100 decimals = \"+f'{answer // 10**100}.{answer % 10**100:0100d}')"
   ]
  },
  {
   "cell_type": "markdown",
   "metadata": {},
   "source": [
    "### Question 2\n",
    "***\n",
    "**Validating Chi-squared test result from Wikipedia Article**"
   ]
  },
  {
   "cell_type": "markdown",
   "metadata": {},
   "source": [
    "#### Import Packages\n",
    "Scipy.Stats used to calculate chi-sqaured value as detailed in assignment, Numpy will be used to store lists in multi-dimensional array."
   ]
  },
  {
   "cell_type": "code",
   "execution_count": 5,
   "metadata": {},
   "outputs": [],
   "source": [
    "import scipy.stats as stats\n",
    "import numpy as np"
   ]
  },
  {
   "cell_type": "markdown",
   "metadata": {},
   "source": [
    "Below code aligns Tables to left of markdown cells adapted from(Trani, 2016)."
   ]
  },
  {
   "cell_type": "code",
   "execution_count": 6,
   "metadata": {},
   "outputs": [
    {
     "data": {
      "text/html": [
       "<style>\n",
       "  table {margin-left: 0 !important;}\n",
       "</style>\n"
      ],
      "text/plain": [
       "<IPython.core.display.HTML object>"
      ]
     },
     "metadata": {},
     "output_type": "display_data"
    }
   ],
   "source": [
    "%%html\n",
    "<style>\n",
    "  table {margin-left: 0 !important;}\n",
    "</style>"
   ]
  },
  {
   "cell_type": "markdown",
   "metadata": {},
   "source": [
    "The observations as recorded on the Wikipedia page (Wikipedia Contributors, 2020) provided in the Tasks brief can be seen in the below table and were stored in three lists as coded below (obsWhite, obsBlue, obsNon). The goal of this Task is to verify the chi-squared result stated on the Wikipedia page of **24.6**.\n",
    "\n",
    "The code to conduct the chi-squared test was adapted from (Hunneycutt, 2018) where the author was using chi-squared test to determine if four samples of dice rolls they conducted to show whether the dice rolls were fair, i.e. each result or category in our case has an equal chance of presenting.\n",
    "\n",
    "**Dataset as seen on Wikipedia**\n",
    "\n",
    "||A|B|C|D|Total|\n",
    "|:---|:---:|:---:|:---:|:---:|:---:|\n",
    "|White Collar|90|60|104|95|**349**|\n",
    "|Blue Collar|30|50|51|20|**151**|\n",
    "|No Collar|30|40|45|35|**150**|\n",
    "|**Total**|**150**|**150**|**200**|**150**|**650**|"
   ]
  },
  {
   "cell_type": "code",
   "execution_count": 7,
   "metadata": {},
   "outputs": [],
   "source": [
    "#Observations from Wikipedia stored in 3 Lists\n",
    "obsWhite = [90, 60, 104, 95]\n",
    "obsBlue = [30, 50, 51, 20]\n",
    "obsNon = [30, 40, 45, 35]\n",
    "\n",
    "# Observation Lists\n",
    "obs = np.array([obsWhite, obsBlue, obsNon])"
   ]
  },
  {
   "cell_type": "markdown",
   "metadata": {},
   "source": [
    "### Answer Output to Question 2\n",
    "***"
   ]
  },
  {
   "cell_type": "code",
   "execution_count": 8,
   "metadata": {},
   "outputs": [
    {
     "name": "stdout",
     "output_type": "stream",
     "text": [
      "===Chi-Squared Stat===\n",
      "24.6\n",
      "\n",
      "\n",
      "===Degrees of Freedom===\n",
      "6\n",
      "\n",
      "\n",
      "===P-Value===\n",
      "0.0004098425861096696\n",
      "\n",
      "\n",
      "===Contingency Table===\n",
      "[[ 80.53846154  80.53846154 107.38461538  80.53846154]\n",
      " [ 34.84615385  34.84615385  46.46153846  34.84615385]\n",
      " [ 34.61538462  34.61538462  46.15384615  34.61538462]]\n"
     ]
    }
   ],
   "source": [
    "# Below Formats output of Chi-Squared Test in more readable format\n",
    "# This is done by asigning a variable name to each ouput to allow formatting of prints\n",
    "chi2_stat, p_val, dof, ex = stats.chi2_contingency(obs)\n",
    "\n",
    "print(\"===Chi-Squared Stat===\")\n",
    "print(f\"{chi2_stat:.1f}\")\n",
    "print(\"\\n\")\n",
    "print(\"===Degrees of Freedom===\")\n",
    "print(dof)\n",
    "print(\"\\n\")\n",
    "print(\"===P-Value===\")\n",
    "print(p_val)\n",
    "print(\"\\n\")\n",
    "print(\"===Contingency Table===\")\n",
    "print(ex)"
   ]
  },
  {
   "cell_type": "markdown",
   "metadata": {},
   "source": [
    "The output contingency table above was then used to manually calculate the Chi-Squared Test using the formula: $\\dfrac{(observed - expected)^2}{expected}$ or in the example of White Collar in A $\\dfrac{(90 - 80.54)^2}{80.54}$ and tabulated in the below table rounding all values to two decimal places which aligns with the answer of 24.6 in the task details and calculation from (Wikipedia Contributors, 2020). \n",
    "\n",
    "**Manual Chi-Square Test Calculation**\n",
    "\n",
    "||A|B|C|D|Total|\n",
    "|:---|:---:|:---:|:---:|:---:|:---:|\n",
    "|White Collar|1.11|5.24|0.11|2.60|**9.06**|\n",
    "|Blue Collar|0.67|6.59|0.44|6.33|**14.03**|\n",
    "|No Collar|0.62|0.84|0.03|0.00|**2.98**|\n",
    "|**Total**|**2.4**|**12.67**|**0.58**|**8.93**|**24.58**|"
   ]
  },
  {
   "cell_type": "markdown",
   "metadata": {},
   "source": [
    "### Question 3\n",
    "***\n",
    "**Standard Deviations of an Array**"
   ]
  },
  {
   "cell_type": "markdown",
   "metadata": {},
   "source": [
    "In Microsoft's spreadsheet software (excel) the standard deviation can be calculated using several different functions, below I will discuss two of those functions comparing and contrasting them. Following which I will simulate these calculations using Numpy to demonstrate how **STDEV.S** is a better function at estimating standard deviation of a population when performed on a sample.\n",
    "\n",
    "**STDEV.P**\n",
    "The STDEV.P function in excel is used to calculate standard deviation for an entire population (Laerd Statistics, 2018), meaning that we have the entire dataset we are interested in which in general is not the case. For example if a teacher wished to summarise the results of an exam completed by their students they would use STDEV.P as they are only interested in their pupils scores and no others are in scope.\n",
    "\n",
    "**STDEV.S**\n",
    "In contrast the STDE.S function used in excel calculates the standard deviation for a sample of data taken from a population which provides an estimation of the entire populations standard deviation (Laerd Statistics, 2018). For example if a researcher recruited several males aged between 45 and 60 years old to study genetic markers for a particular disease they would use STDEV.S. This is because the researcher did not recruit the entire population of 45-60 year old males for the study rather a representative sample of the population which can be used to make an extimation of the entire population.\n",
    "\n",
    "**Calculation Differences**\n",
    "Both of these functions are calculating variability in the data however there is a distinction in calculting each in that STDEV.P is a parameter and so a fixed value calculated using all items within the dataset. Whereas, STDEV.S is a statistic as it is calculated from a sample of the population and so the result is dependant on the sample provided which causes greater variability resulting in the result being larger than the result from STDEV.P (Taylor, 2020)."
   ]
  },
  {
   "cell_type": "markdown",
   "metadata": {},
   "source": [
    "Generate Normally distributed random population of 10,000 numbers and perform standard deviation calculation using both methods on sample of this dataset."
   ]
  },
  {
   "cell_type": "code",
   "execution_count": null,
   "metadata": {},
   "outputs": [],
   "source": []
  },
  {
   "cell_type": "code",
   "execution_count": null,
   "metadata": {},
   "outputs": [],
   "source": []
  },
  {
   "cell_type": "code",
   "execution_count": null,
   "metadata": {},
   "outputs": [],
   "source": []
  },
  {
   "cell_type": "markdown",
   "metadata": {},
   "source": [
    "## References\n",
    "***\n",
    "D'Aprano, S., 2011. INTEGER SQUARE ROOT FUNCTION (PYTHON RECIPE). [Online] \n",
    "Available at: https://code.activestate.com/recipes/577821-integer-square-root-function/\n",
    "[Accessed 11 October 2020].\n",
    "\n",
    "Glen, S., 2020. Chi-Square Statistic: How to Calculate It / Distribution. [Online] \n",
    "Available at: https://www.statisticshowto.com/probability-and-statistics/chi-square/\n",
    "[Accessed 08 November 2020].\n",
    "\n",
    "Hunneycutt, J., 2018. Running Chi-Square Tests with Die Roll Data in Python. [Online] \n",
    "Available at: https://towardsdatascience.com/running-chi-square-tests-in-python-with-die-roll-data-b9903817c51b\n",
    "[Accessed 08 November 2020].\n",
    "\n",
    "Math.com, n.d. Square Roots. [Online] \n",
    "Available at: http://www.math.com/school/subject1/lessons/S1U1L9DP.html\n",
    "[Accessed 07 October 2020].\n",
    "\n",
    "Nemiroff, R. & Bonnell , J., Unknown. The Square Root of Two to 1 Million Digits. [Online] \n",
    "Available at: https://apod.nasa.gov/htmltest/gifcity/sqrt2.1mil\n",
    "[Accessed 11 October 2020].\n",
    "\n",
    "perigon, 2017. Square root of a number without math.sqrt. [Online] \n",
    "Available at: https://stackoverflow.com/questions/45135238/square-root-of-a-number-without-math-sqrt\n",
    "[Accessed 10 October 2020].\n",
    "\n",
    "Python Software Foundation, 2020. 15. Floating Point Arithmetic: Issues and Limitations. [Online] \n",
    "Available at: https://docs.python.org/3/tutorial/floatingpoint.html\n",
    "[Accessed 10 October 2020].\n",
    "\n",
    "Python Software Foundation, 2020. Built-in Types. [Online] \n",
    "Available at: https://docs.python.org/3/library/stdtypes.html?highlight=as_integer_ratio#float.as_integer_ratio\n",
    "[Accessed 11 October 2020].\n",
    "\n",
    "Robᵩ, 2017. Fixed digits after decimal with f-strings. [Online] \n",
    "Available at: https://stackoverflow.com/questions/45310254/fixed-digits-after-decimal-with-f-strings\n",
    "[Accessed 11 October 2020].\n",
    "\n",
    "SYK, 2015. Python setting Decimal Place range without rounding?. [Online] \n",
    "Available at: https://stackoverflow.com/questions/29246455/python-setting-decimal-place-range-without-rounding\n",
    "[Accessed 10 October 2020].\n",
    "\n",
    "Trani, R., 2016. ipython notebook align table to the left of cell. [Online] \n",
    "Available at: https://stackoverflow.com/questions/21892570/ipython-notebook-align-table-to-the-left-of-cell\n",
    "[Accessed 08 November 2020].\n",
    "\n",
    "Wikipedia Contributors, 2020. Chi-squared test — Wikipedia, the free encyclopedia. [Online] \n",
    "Available at: https://en.wikipedia.org/w/index.php?title=Chi-squared_test&oldid=983024096\n",
    "[Accessed 08 November 2020].\n",
    "\n",
    "Wikipedia, 2020. Integer square root. [Online] \n",
    "Available at: https://en.wikipedia.org/wiki/Integer_square_root\n",
    "[Accessed 11 October 2020]."
   ]
  },
  {
   "cell_type": "code",
   "execution_count": null,
   "metadata": {},
   "outputs": [],
   "source": []
  }
 ],
 "metadata": {
  "kernelspec": {
   "display_name": "Python 3",
   "language": "python",
   "name": "python3"
  },
  "language_info": {
   "codemirror_mode": {
    "name": "ipython",
    "version": 3
   },
   "file_extension": ".py",
   "mimetype": "text/x-python",
   "name": "python",
   "nbconvert_exporter": "python",
   "pygments_lexer": "ipython3",
   "version": "3.8.3"
  }
 },
 "nbformat": 4,
 "nbformat_minor": 4
}
